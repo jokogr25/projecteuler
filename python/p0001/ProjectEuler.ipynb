{
 "cells": [
  {
   "cell_type": "markdown",
   "id": "368c6e2d",
   "metadata": {},
   "source": [
    "\n",
    "# Problem 1 - List\n",
    "\n",
    "#### If we list all the natural numbers below 10 that are multiples of 3 or 5, we get 3, 5, 6 and 9. The sum of these multiples is 23.\n",
    "\n",
    "#### Find the sum of all the multiples of 3 or 5 below 1000.\n"
   ]
  },
  {
   "cell_type": "code",
   "execution_count": 59,
   "id": "ba8384bd",
   "metadata": {},
   "outputs": [
    {
     "name": "stdout",
     "output_type": "stream",
     "text": [
      "233168\n"
     ]
    }
   ],
   "source": [
    "n = list(range(0, 1000))\n",
    "sum = 0\n",
    "for num in n:\n",
    "    if (num % 3 == 0) or (num % 5 == 0):\n",
    "        sum += num\n",
    "\n",
    "print(sum)"
   ]
  },
  {
   "cell_type": "markdown",
   "id": "ca3b892e",
   "metadata": {},
   "source": [
    "# Problem 2 - Even Fibonacci numbers\n",
    "### By considering the terms in the Fibonacci sequence whose values do not exceed four million, find the sum of the even-valued terms."
   ]
  },
  {
   "cell_type": "code",
   "execution_count": 60,
   "id": "8ee7bf0e",
   "metadata": {},
   "outputs": [
    {
     "data": {
      "text/plain": [
       "4613732"
      ]
     },
     "execution_count": 60,
     "metadata": {},
     "output_type": "execute_result"
    }
   ],
   "source": [
    "# iterativ\n",
    "\n",
    "sum1 = 0\n",
    "sum2 = 1\n",
    "aux = 0\n",
    "n = 4e6\n",
    "evn = []\n",
    "\n",
    "while aux <= n:\n",
    "    aux = sum1 + sum2\n",
    "\n",
    "    if aux % 2 == 0:\n",
    "        evn.append(aux)\n",
    "    sum1 = sum2\n",
    "    sum2 = aux\n",
    "\n",
    "# just in case sum() already defined elsewhere\n",
    "if 'sum' in dir():\n",
    "    del sum\n",
    "\n",
    "sum(evn)"
   ]
  },
  {
   "cell_type": "code",
   "execution_count": null,
   "id": "cc9ea83e",
   "metadata": {},
   "outputs": [],
   "source": []
  },
  {
   "cell_type": "code",
   "execution_count": null,
   "id": "82b3be59",
   "metadata": {},
   "outputs": [],
   "source": []
  }
 ],
 "metadata": {
  "kernelspec": {
   "display_name": "Python 3.9.4 64-bit",
   "language": "python",
   "name": "python3"
  },
  "language_info": {
   "codemirror_mode": {
    "name": "ipython",
    "version": 3
   },
   "file_extension": ".py",
   "mimetype": "text/x-python",
   "name": "python",
   "nbconvert_exporter": "python",
   "pygments_lexer": "ipython3",
   "version": "3.9.16"
  },
  "vscode": {
   "interpreter": {
    "hash": "aee8b7b246df8f9039afb4144a1f6fd8d2ca17a180786b69acc140d282b71a49"
   }
  }
 },
 "nbformat": 4,
 "nbformat_minor": 5
}
