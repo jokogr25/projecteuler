{
 "cells": [
  {
   "cell_type": "markdown",
   "id": "368c6e2d",
   "metadata": {},
   "source": [
    "\n",
    "# Largest Prime Factor\n",
    "\n",
    "#### The prime factors of 13195 are 5, 7, 13 and 29\n",
    "\n",
    "#### What is the largest prime factor of the number 600851475143?"
   ]
  },
  {
   "cell_type": "code",
   "execution_count": 1,
   "id": "20a574eb",
   "metadata": {},
   "outputs": [
    {
     "name": "stdout",
     "output_type": "stream",
     "text": [
      "29\n"
     ]
    }
   ],
   "source": [
    "n = 13195 #600851475143\n",
    "sieve = [True] * (n + 1)\n",
    "# create list of all primes up to n\n",
    "# method: sieb des Eratosthenes\n",
    "sieve[0] = False\n",
    "sieve[1] = False\n",
    "# mark all non primes as false, can start at square of each next prime\n",
    "for i in range(2,  int(n**0.5) + 1):\n",
    "    for j in range(i*i, n+1, i):\n",
    "        sieve[j] = False\n",
    "\n",
    "# filter primes to one list\n",
    "primes = [i for i, is_prime in enumerate(sieve) if sieve[i]]\n",
    "\n",
    "# find the largest prime factor\n",
    "for prim in list(reversed(primes)):\n",
    "    if n % prim == 0:\n",
    "        lgst_prim = prim\n",
    "        break\n",
    "print(lgst_prim)"
   ]
  },
  {
   "cell_type": "code",
   "execution_count": null,
   "id": "21c1ea7f",
   "metadata": {},
   "outputs": [],
   "source": [
    "n = 600851475143\n",
    "\n",
    "def largest_prime_factor(num):\n",
    "    # smallest prime factor\n",
    "    factor = 2\n",
    "    while num > 1:\n",
    "        # if factor divides num, divide num by factor\n",
    "        while num % factor == 0:\n",
    "            num //= factor\n",
    "        # increment factor\n",
    "        factor += 1\n",
    "    # the last factor that divided num is the largest prime factor\n",
    "    return factor - 1\n",
    "\n",
    "print(largest_prime_factor(n))"
   ]
  },
  {
   "cell_type": "code",
   "execution_count": null,
   "id": "5b00feb8",
   "metadata": {},
   "outputs": [],
   "source": []
  }
 ],
 "metadata": {
  "kernelspec": {
   "display_name": "Python 3.9.4 64-bit",
   "language": "python",
   "name": "python3"
  },
  "language_info": {
   "codemirror_mode": {
    "name": "ipython",
    "version": 3
   },
   "file_extension": ".py",
   "mimetype": "text/x-python",
   "name": "python",
   "nbconvert_exporter": "python",
   "pygments_lexer": "ipython3",
   "version": "3.9.16"
  },
  "vscode": {
   "interpreter": {
    "hash": "aee8b7b246df8f9039afb4144a1f6fd8d2ca17a180786b69acc140d282b71a49"
   }
  }
 },
 "nbformat": 4,
 "nbformat_minor": 5
}
